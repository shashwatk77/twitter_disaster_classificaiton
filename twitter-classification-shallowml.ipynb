{
 "cells": [
  {
   "cell_type": "code",
   "execution_count": 1,
   "id": "17515642",
   "metadata": {
    "_cell_guid": "b1076dfc-b9ad-4769-8c92-a6c4dae69d19",
    "_uuid": "8f2839f25d086af736a60e9eeb907d3b93b6e0e5",
    "execution": {
     "iopub.execute_input": "2024-03-27T20:01:31.681268Z",
     "iopub.status.busy": "2024-03-27T20:01:31.680569Z",
     "iopub.status.idle": "2024-03-27T20:02:06.809731Z",
     "shell.execute_reply": "2024-03-27T20:02:06.808319Z"
    },
    "papermill": {
     "duration": 35.142901,
     "end_time": "2024-03-27T20:02:06.812650",
     "exception": false,
     "start_time": "2024-03-27T20:01:31.669749",
     "status": "completed"
    },
    "tags": []
   },
   "outputs": [
    {
     "name": "stdout",
     "output_type": "stream",
     "text": [
      "Collecting keras-core\r\n",
      "  Downloading keras_core-0.1.7-py3-none-any.whl.metadata (4.3 kB)\r\n",
      "Requirement already satisfied: absl-py in /opt/conda/lib/python3.10/site-packages (from keras-core) (1.4.0)\r\n",
      "Requirement already satisfied: numpy in /opt/conda/lib/python3.10/site-packages (from keras-core) (1.26.4)\r\n",
      "Requirement already satisfied: rich in /opt/conda/lib/python3.10/site-packages (from keras-core) (13.7.0)\r\n",
      "Requirement already satisfied: namex in /opt/conda/lib/python3.10/site-packages (from keras-core) (0.0.7)\r\n",
      "Requirement already satisfied: h5py in /opt/conda/lib/python3.10/site-packages (from keras-core) (3.10.0)\r\n",
      "Requirement already satisfied: dm-tree in /opt/conda/lib/python3.10/site-packages (from keras-core) (0.1.8)\r\n",
      "Requirement already satisfied: markdown-it-py>=2.2.0 in /opt/conda/lib/python3.10/site-packages (from rich->keras-core) (3.0.0)\r\n",
      "Requirement already satisfied: pygments<3.0.0,>=2.13.0 in /opt/conda/lib/python3.10/site-packages (from rich->keras-core) (2.17.2)\r\n",
      "Requirement already satisfied: mdurl~=0.1 in /opt/conda/lib/python3.10/site-packages (from markdown-it-py>=2.2.0->rich->keras-core) (0.1.2)\r\n",
      "Downloading keras_core-0.1.7-py3-none-any.whl (950 kB)\r\n",
      "\u001b[2K   \u001b[90m━━━━━━━━━━━━━━━━━━━━━━━━━━━━━━━━━━━━━━━━\u001b[0m \u001b[32m950.8/950.8 kB\u001b[0m \u001b[31m10.3 MB/s\u001b[0m eta \u001b[36m0:00:00\u001b[0m\r\n",
      "\u001b[?25hInstalling collected packages: keras-core\r\n",
      "Successfully installed keras-core-0.1.7\r\n",
      "\u001b[31mERROR: pip's dependency resolver does not currently take into account all the packages that are installed. This behaviour is the source of the following dependency conflicts.\r\n",
      "tensorflow-decision-forests 1.8.1 requires wurlitzer, which is not installed.\u001b[0m\u001b[31m\r\n",
      "\u001b[0m"
     ]
    }
   ],
   "source": [
    "!pip install keras-core --upgrade\n",
    "!pip install -q keras-nlp --upgrade\n",
    "\n",
    "# This sample uses Keras Core, the multi-backend version of Keras.\n",
    "# The selected backend is TensorFlow (other supported backends are 'jax' and 'torch')\n",
    "import os\n",
    "os.environ['KERAS_BACKEND'] = 'tensorflow'"
   ]
  },
  {
   "cell_type": "code",
   "execution_count": 2,
   "id": "5c456eea",
   "metadata": {
    "execution": {
     "iopub.execute_input": "2024-03-27T20:02:06.831400Z",
     "iopub.status.busy": "2024-03-27T20:02:06.831013Z",
     "iopub.status.idle": "2024-03-27T20:02:23.849921Z",
     "shell.execute_reply": "2024-03-27T20:02:23.848693Z"
    },
    "papermill": {
     "duration": 17.031484,
     "end_time": "2024-03-27T20:02:23.852530",
     "exception": false,
     "start_time": "2024-03-27T20:02:06.821046",
     "status": "completed"
    },
    "tags": []
   },
   "outputs": [
    {
     "name": "stderr",
     "output_type": "stream",
     "text": [
      "2024-03-27 20:02:09.843610: E external/local_xla/xla/stream_executor/cuda/cuda_dnn.cc:9261] Unable to register cuDNN factory: Attempting to register factory for plugin cuDNN when one has already been registered\n",
      "2024-03-27 20:02:09.843808: E external/local_xla/xla/stream_executor/cuda/cuda_fft.cc:607] Unable to register cuFFT factory: Attempting to register factory for plugin cuFFT when one has already been registered\n",
      "2024-03-27 20:02:10.011614: E external/local_xla/xla/stream_executor/cuda/cuda_blas.cc:1515] Unable to register cuBLAS factory: Attempting to register factory for plugin cuBLAS when one has already been registered\n"
     ]
    },
    {
     "name": "stdout",
     "output_type": "stream",
     "text": [
      "Using TensorFlow backend\n",
      "TensorFlow version: 2.15.0\n",
      "KerasNLP version: 0.8.2\n"
     ]
    }
   ],
   "source": [
    "import numpy as np # linear algebra\n",
    "import pandas as pd # data processing, CSV file I/O (e.g. pd.read_csv)\n",
    "import tensorflow as tf\n",
    "import keras_core as keras\n",
    "import keras_nlp\n",
    "from sklearn.metrics import ConfusionMatrixDisplay, confusion_matrix\n",
    "import seaborn as sns\n",
    "import matplotlib.pyplot as plt\n",
    "\n",
    "print(\"TensorFlow version:\", tf.__version__)\n",
    "print(\"KerasNLP version:\", keras_nlp.__version__)"
   ]
  },
  {
   "cell_type": "code",
   "execution_count": 3,
   "id": "726ffbb2",
   "metadata": {
    "execution": {
     "iopub.execute_input": "2024-03-27T20:02:23.871842Z",
     "iopub.status.busy": "2024-03-27T20:02:23.870769Z",
     "iopub.status.idle": "2024-03-27T20:02:23.953966Z",
     "shell.execute_reply": "2024-03-27T20:02:23.952795Z"
    },
    "papermill": {
     "duration": 0.096116,
     "end_time": "2024-03-27T20:02:23.957158",
     "exception": false,
     "start_time": "2024-03-27T20:02:23.861042",
     "status": "completed"
    },
    "tags": []
   },
   "outputs": [
    {
     "name": "stdout",
     "output_type": "stream",
     "text": [
      "Training Set Shape = (7613, 5)\n",
      "Training Set Memory Usage = 0.29 MB\n",
      "Test Set Shape = (3263, 4)\n",
      "Test Set Memory Usage = 0.10 MB\n"
     ]
    }
   ],
   "source": [
    "df_train = pd.read_csv(\"/kaggle/input/nlp-getting-started/train.csv\")\n",
    "df_test = pd.read_csv(\"/kaggle/input/nlp-getting-started/test.csv\")\n",
    "\n",
    "print('Training Set Shape = {}'.format(df_train.shape))\n",
    "print('Training Set Memory Usage = {:.2f} MB'.format(df_train.memory_usage().sum() / 1024**2))\n",
    "print('Test Set Shape = {}'.format(df_test.shape))\n",
    "print('Test Set Memory Usage = {:.2f} MB'.format(df_test.memory_usage().sum() / 1024**2))"
   ]
  },
  {
   "cell_type": "code",
   "execution_count": 4,
   "id": "0a9a3338",
   "metadata": {
    "execution": {
     "iopub.execute_input": "2024-03-27T20:02:23.976909Z",
     "iopub.status.busy": "2024-03-27T20:02:23.975954Z",
     "iopub.status.idle": "2024-03-27T20:02:23.981710Z",
     "shell.execute_reply": "2024-03-27T20:02:23.980433Z"
    },
    "papermill": {
     "duration": 0.018312,
     "end_time": "2024-03-27T20:02:23.983966",
     "exception": false,
     "start_time": "2024-03-27T20:02:23.965654",
     "status": "completed"
    },
    "tags": []
   },
   "outputs": [],
   "source": [
    "submission_id = df_test['id']"
   ]
  },
  {
   "cell_type": "code",
   "execution_count": 5,
   "id": "7a1bb66c",
   "metadata": {
    "execution": {
     "iopub.execute_input": "2024-03-27T20:02:24.003105Z",
     "iopub.status.busy": "2024-03-27T20:02:24.002462Z",
     "iopub.status.idle": "2024-03-27T20:02:24.020157Z",
     "shell.execute_reply": "2024-03-27T20:02:24.019026Z"
    },
    "papermill": {
     "duration": 0.03007,
     "end_time": "2024-03-27T20:02:24.022676",
     "exception": false,
     "start_time": "2024-03-27T20:02:23.992606",
     "status": "completed"
    },
    "tags": []
   },
   "outputs": [
    {
     "data": {
      "text/html": [
       "<div>\n",
       "<style scoped>\n",
       "    .dataframe tbody tr th:only-of-type {\n",
       "        vertical-align: middle;\n",
       "    }\n",
       "\n",
       "    .dataframe tbody tr th {\n",
       "        vertical-align: top;\n",
       "    }\n",
       "\n",
       "    .dataframe thead th {\n",
       "        text-align: right;\n",
       "    }\n",
       "</style>\n",
       "<table border=\"1\" class=\"dataframe\">\n",
       "  <thead>\n",
       "    <tr style=\"text-align: right;\">\n",
       "      <th></th>\n",
       "      <th>id</th>\n",
       "      <th>keyword</th>\n",
       "      <th>location</th>\n",
       "      <th>text</th>\n",
       "      <th>target</th>\n",
       "    </tr>\n",
       "  </thead>\n",
       "  <tbody>\n",
       "    <tr>\n",
       "      <th>0</th>\n",
       "      <td>1</td>\n",
       "      <td>NaN</td>\n",
       "      <td>NaN</td>\n",
       "      <td>Our Deeds are the Reason of this #earthquake M...</td>\n",
       "      <td>1</td>\n",
       "    </tr>\n",
       "    <tr>\n",
       "      <th>1</th>\n",
       "      <td>4</td>\n",
       "      <td>NaN</td>\n",
       "      <td>NaN</td>\n",
       "      <td>Forest fire near La Ronge Sask. Canada</td>\n",
       "      <td>1</td>\n",
       "    </tr>\n",
       "    <tr>\n",
       "      <th>2</th>\n",
       "      <td>5</td>\n",
       "      <td>NaN</td>\n",
       "      <td>NaN</td>\n",
       "      <td>All residents asked to 'shelter in place' are ...</td>\n",
       "      <td>1</td>\n",
       "    </tr>\n",
       "    <tr>\n",
       "      <th>3</th>\n",
       "      <td>6</td>\n",
       "      <td>NaN</td>\n",
       "      <td>NaN</td>\n",
       "      <td>13,000 people receive #wildfires evacuation or...</td>\n",
       "      <td>1</td>\n",
       "    </tr>\n",
       "    <tr>\n",
       "      <th>4</th>\n",
       "      <td>7</td>\n",
       "      <td>NaN</td>\n",
       "      <td>NaN</td>\n",
       "      <td>Just got sent this photo from Ruby #Alaska as ...</td>\n",
       "      <td>1</td>\n",
       "    </tr>\n",
       "  </tbody>\n",
       "</table>\n",
       "</div>"
      ],
      "text/plain": [
       "   id keyword location                                               text  \\\n",
       "0   1     NaN      NaN  Our Deeds are the Reason of this #earthquake M...   \n",
       "1   4     NaN      NaN             Forest fire near La Ronge Sask. Canada   \n",
       "2   5     NaN      NaN  All residents asked to 'shelter in place' are ...   \n",
       "3   6     NaN      NaN  13,000 people receive #wildfires evacuation or...   \n",
       "4   7     NaN      NaN  Just got sent this photo from Ruby #Alaska as ...   \n",
       "\n",
       "   target  \n",
       "0       1  \n",
       "1       1  \n",
       "2       1  \n",
       "3       1  \n",
       "4       1  "
      ]
     },
     "execution_count": 5,
     "metadata": {},
     "output_type": "execute_result"
    }
   ],
   "source": [
    "df_train.head()"
   ]
  },
  {
   "cell_type": "code",
   "execution_count": 6,
   "id": "e94f5113",
   "metadata": {
    "execution": {
     "iopub.execute_input": "2024-03-27T20:02:24.042286Z",
     "iopub.status.busy": "2024-03-27T20:02:24.041608Z",
     "iopub.status.idle": "2024-03-27T20:02:24.053450Z",
     "shell.execute_reply": "2024-03-27T20:02:24.052332Z"
    },
    "papermill": {
     "duration": 0.024449,
     "end_time": "2024-03-27T20:02:24.055906",
     "exception": false,
     "start_time": "2024-03-27T20:02:24.031457",
     "status": "completed"
    },
    "tags": []
   },
   "outputs": [
    {
     "data": {
      "text/html": [
       "<div>\n",
       "<style scoped>\n",
       "    .dataframe tbody tr th:only-of-type {\n",
       "        vertical-align: middle;\n",
       "    }\n",
       "\n",
       "    .dataframe tbody tr th {\n",
       "        vertical-align: top;\n",
       "    }\n",
       "\n",
       "    .dataframe thead th {\n",
       "        text-align: right;\n",
       "    }\n",
       "</style>\n",
       "<table border=\"1\" class=\"dataframe\">\n",
       "  <thead>\n",
       "    <tr style=\"text-align: right;\">\n",
       "      <th></th>\n",
       "      <th>id</th>\n",
       "      <th>keyword</th>\n",
       "      <th>location</th>\n",
       "      <th>text</th>\n",
       "    </tr>\n",
       "  </thead>\n",
       "  <tbody>\n",
       "    <tr>\n",
       "      <th>0</th>\n",
       "      <td>0</td>\n",
       "      <td>NaN</td>\n",
       "      <td>NaN</td>\n",
       "      <td>Just happened a terrible car crash</td>\n",
       "    </tr>\n",
       "    <tr>\n",
       "      <th>1</th>\n",
       "      <td>2</td>\n",
       "      <td>NaN</td>\n",
       "      <td>NaN</td>\n",
       "      <td>Heard about #earthquake is different cities, s...</td>\n",
       "    </tr>\n",
       "    <tr>\n",
       "      <th>2</th>\n",
       "      <td>3</td>\n",
       "      <td>NaN</td>\n",
       "      <td>NaN</td>\n",
       "      <td>there is a forest fire at spot pond, geese are...</td>\n",
       "    </tr>\n",
       "    <tr>\n",
       "      <th>3</th>\n",
       "      <td>9</td>\n",
       "      <td>NaN</td>\n",
       "      <td>NaN</td>\n",
       "      <td>Apocalypse lighting. #Spokane #wildfires</td>\n",
       "    </tr>\n",
       "    <tr>\n",
       "      <th>4</th>\n",
       "      <td>11</td>\n",
       "      <td>NaN</td>\n",
       "      <td>NaN</td>\n",
       "      <td>Typhoon Soudelor kills 28 in China and Taiwan</td>\n",
       "    </tr>\n",
       "  </tbody>\n",
       "</table>\n",
       "</div>"
      ],
      "text/plain": [
       "   id keyword location                                               text\n",
       "0   0     NaN      NaN                 Just happened a terrible car crash\n",
       "1   2     NaN      NaN  Heard about #earthquake is different cities, s...\n",
       "2   3     NaN      NaN  there is a forest fire at spot pond, geese are...\n",
       "3   9     NaN      NaN           Apocalypse lighting. #Spokane #wildfires\n",
       "4  11     NaN      NaN      Typhoon Soudelor kills 28 in China and Taiwan"
      ]
     },
     "execution_count": 6,
     "metadata": {},
     "output_type": "execute_result"
    }
   ],
   "source": [
    "df_test.head()"
   ]
  },
  {
   "cell_type": "code",
   "execution_count": 7,
   "id": "60a3acc7",
   "metadata": {
    "execution": {
     "iopub.execute_input": "2024-03-27T20:02:24.075676Z",
     "iopub.status.busy": "2024-03-27T20:02:24.075213Z",
     "iopub.status.idle": "2024-03-27T20:02:24.091641Z",
     "shell.execute_reply": "2024-03-27T20:02:24.090793Z"
    },
    "papermill": {
     "duration": 0.029107,
     "end_time": "2024-03-27T20:02:24.093893",
     "exception": false,
     "start_time": "2024-03-27T20:02:24.064786",
     "status": "completed"
    },
    "tags": []
   },
   "outputs": [
    {
     "data": {
      "text/plain": [
       "count     5080\n",
       "unique    3341\n",
       "top        USA\n",
       "freq       104\n",
       "Name: location, dtype: object"
      ]
     },
     "execution_count": 7,
     "metadata": {},
     "output_type": "execute_result"
    }
   ],
   "source": [
    "df_train['location'].describe()"
   ]
  },
  {
   "cell_type": "code",
   "execution_count": 8,
   "id": "2eb3accf",
   "metadata": {
    "execution": {
     "iopub.execute_input": "2024-03-27T20:02:24.114801Z",
     "iopub.status.busy": "2024-03-27T20:02:24.113910Z",
     "iopub.status.idle": "2024-03-27T20:02:24.126172Z",
     "shell.execute_reply": "2024-03-27T20:02:24.124910Z"
    },
    "papermill": {
     "duration": 0.025671,
     "end_time": "2024-03-27T20:02:24.128700",
     "exception": false,
     "start_time": "2024-03-27T20:02:24.103029",
     "status": "completed"
    },
    "tags": []
   },
   "outputs": [
    {
     "data": {
      "text/plain": [
       "count           7552\n",
       "unique           221\n",
       "top       fatalities\n",
       "freq              45\n",
       "Name: keyword, dtype: object"
      ]
     },
     "execution_count": 8,
     "metadata": {},
     "output_type": "execute_result"
    }
   ],
   "source": [
    "df_train['keyword'].describe()"
   ]
  },
  {
   "cell_type": "code",
   "execution_count": 9,
   "id": "f9915a8f",
   "metadata": {
    "execution": {
     "iopub.execute_input": "2024-03-27T20:02:24.149408Z",
     "iopub.status.busy": "2024-03-27T20:02:24.148450Z",
     "iopub.status.idle": "2024-03-27T20:02:24.159855Z",
     "shell.execute_reply": "2024-03-27T20:02:24.158756Z"
    },
    "papermill": {
     "duration": 0.024347,
     "end_time": "2024-03-27T20:02:24.162332",
     "exception": false,
     "start_time": "2024-03-27T20:02:24.137985",
     "status": "completed"
    },
    "tags": []
   },
   "outputs": [],
   "source": [
    "target = df_train['target']\n",
    "df_train = df_train.drop(columns=['id'])\n",
    "df_test = df_test.drop(columns=['id'])"
   ]
  },
  {
   "cell_type": "code",
   "execution_count": 10,
   "id": "746a6e61",
   "metadata": {
    "execution": {
     "iopub.execute_input": "2024-03-27T20:02:24.184280Z",
     "iopub.status.busy": "2024-03-27T20:02:24.183562Z",
     "iopub.status.idle": "2024-03-27T20:02:24.194766Z",
     "shell.execute_reply": "2024-03-27T20:02:24.193558Z"
    },
    "papermill": {
     "duration": 0.02584,
     "end_time": "2024-03-27T20:02:24.197542",
     "exception": false,
     "start_time": "2024-03-27T20:02:24.171702",
     "status": "completed"
    },
    "tags": []
   },
   "outputs": [],
   "source": [
    "df_train.fillna('', inplace=True)\n",
    "df_test.fillna('',inplace=True)"
   ]
  },
  {
   "cell_type": "code",
   "execution_count": 11,
   "id": "a4e19159",
   "metadata": {
    "execution": {
     "iopub.execute_input": "2024-03-27T20:02:24.217746Z",
     "iopub.status.busy": "2024-03-27T20:02:24.217320Z",
     "iopub.status.idle": "2024-03-27T20:02:24.508514Z",
     "shell.execute_reply": "2024-03-27T20:02:24.507461Z"
    },
    "papermill": {
     "duration": 0.304554,
     "end_time": "2024-03-27T20:02:24.511376",
     "exception": false,
     "start_time": "2024-03-27T20:02:24.206822",
     "status": "completed"
    },
    "tags": []
   },
   "outputs": [],
   "source": [
    "\"\"\"\n",
    "\n",
    "1. Preprocessing the dataset for ShallowML ex. case normalization, removing special characters\n",
    "2. Feature extraction for ShallowML ex. Common text features:\n",
    "-Vectorization: BOW, Bag of N-Grams, TF-IDF, Sentence Embeddings\n",
    "-Calculations on the text: Length, number of nouns, readability scores, complexity scores, tone (e.g., LIWC)\n",
    "-Meta data about the text: author, date, venue\n",
    "3. Using any Machine Learning algorithm and getting the results as a base line model for later comparison\n",
    "\n",
    "\"\"\"\n",
    "\n",
    "import re\n",
    "from sklearn.model_selection import train_test_split\n",
    "from sklearn.feature_extraction.text import TfidfVectorizer\n",
    "from sklearn.ensemble import RandomForestClassifier\n",
    "from sklearn.metrics import accuracy_score, f1_score, classification_report\n",
    "from sklearn.pipeline import Pipeline, FeatureUnion\n",
    "from sklearn.base import BaseEstimator,TransformerMixin\n",
    "\n",
    "class TextPreprocessor(BaseEstimator, TransformerMixin):\n",
    "    def transform(self, X, **transform_params):\n",
    "        X_lower = [text.lower() for text in X]   # Case Normalization\n",
    "        X_processed = [re.sub(r'[^a-zA-Z0-9\\s]', '', text) for text in X_lower] # Removing the special characters\n",
    "        return X_processed\n",
    "    \n",
    "    def fit(self, X, y=None, **fit_params):\n",
    "        return self\n",
    "\n",
    "class ColumnExtractor(BaseEstimator, TransformerMixin):\n",
    "    def __init__(self, column):\n",
    "        self.column = column\n",
    "    \n",
    "    def transform(self, X, **transform_params):\n",
    "        return X[self.column]\n",
    "    \n",
    "    def fit(self, X, y=None, **fit_params):\n",
    "        return self\n",
    "\n",
    "X_train, X_test, y_train, y_test = train_test_split(df_train[['keyword','location','text']], target, test_size=0.2, random_state=42)"
   ]
  },
  {
   "cell_type": "code",
   "execution_count": 12,
   "id": "e836c51a",
   "metadata": {
    "execution": {
     "iopub.execute_input": "2024-03-27T20:02:24.531676Z",
     "iopub.status.busy": "2024-03-27T20:02:24.531217Z",
     "iopub.status.idle": "2024-03-27T20:02:34.959263Z",
     "shell.execute_reply": "2024-03-27T20:02:34.958184Z"
    },
    "papermill": {
     "duration": 10.441299,
     "end_time": "2024-03-27T20:02:34.961949",
     "exception": false,
     "start_time": "2024-03-27T20:02:24.520650",
     "status": "completed"
    },
    "tags": []
   },
   "outputs": [],
   "source": [
    "pipeline = Pipeline([\n",
    "    ('features', FeatureUnion([\n",
    "        ('text', Pipeline([\n",
    "            ('selector', ColumnExtractor(column='text')),\n",
    "            ('preprocessor', TextPreprocessor()),\n",
    "            ('vectorizer', TfidfVectorizer())\n",
    "        ])),\n",
    "        ('keyword', Pipeline([\n",
    "            ('selector', ColumnExtractor(column='keyword')),\n",
    "            ('vectorizer', TfidfVectorizer())\n",
    "        ])),\n",
    "        ('location', Pipeline([\n",
    "            ('selector', ColumnExtractor(column='location')),\n",
    "            ('vectorizer', TfidfVectorizer())\n",
    "        ]))\n",
    "    ])),\n",
    "    ('classifier', RandomForestClassifier())\n",
    "])\n",
    "\n",
    "\n",
    "pipeline.fit(X_train, y_train)\n",
    "\n",
    "predictions = pipeline.predict(X_test)"
   ]
  },
  {
   "cell_type": "code",
   "execution_count": 13,
   "id": "a2b763eb",
   "metadata": {
    "execution": {
     "iopub.execute_input": "2024-03-27T20:02:34.982638Z",
     "iopub.status.busy": "2024-03-27T20:02:34.982244Z",
     "iopub.status.idle": "2024-03-27T20:02:35.006397Z",
     "shell.execute_reply": "2024-03-27T20:02:35.004883Z"
    },
    "papermill": {
     "duration": 0.037522,
     "end_time": "2024-03-27T20:02:35.008931",
     "exception": false,
     "start_time": "2024-03-27T20:02:34.971409",
     "status": "completed"
    },
    "tags": []
   },
   "outputs": [
    {
     "name": "stdout",
     "output_type": "stream",
     "text": [
      "F1 Scores: 0.7021276595744681\n",
      "Accuracy: 0.7793827971109653\n",
      "Classification Report:\n",
      "              precision    recall  f1-score   support\n",
      "\n",
      "           0       0.76      0.91      0.82       874\n",
      "           1       0.83      0.61      0.70       649\n",
      "\n",
      "    accuracy                           0.78      1523\n",
      "   macro avg       0.79      0.76      0.76      1523\n",
      "weighted avg       0.79      0.78      0.77      1523\n",
      "\n"
     ]
    }
   ],
   "source": [
    "accuracy = accuracy_score(y_test, predictions)\n",
    "print(\"F1 Scores:\", f1_score(y_test, predictions))\n",
    "print(\"Accuracy:\", accuracy)\n",
    "print(\"Classification Report:\")\n",
    "print(classification_report(y_test, predictions))"
   ]
  },
  {
   "cell_type": "code",
   "execution_count": 14,
   "id": "1f07407b",
   "metadata": {
    "execution": {
     "iopub.execute_input": "2024-03-27T20:02:35.029671Z",
     "iopub.status.busy": "2024-03-27T20:02:35.029276Z",
     "iopub.status.idle": "2024-03-27T20:02:35.425316Z",
     "shell.execute_reply": "2024-03-27T20:02:35.424344Z"
    },
    "papermill": {
     "duration": 0.409685,
     "end_time": "2024-03-27T20:02:35.427953",
     "exception": false,
     "start_time": "2024-03-27T20:02:35.018268",
     "status": "completed"
    },
    "tags": []
   },
   "outputs": [],
   "source": [
    "preds = pipeline.predict_proba(df_test)"
   ]
  },
  {
   "cell_type": "code",
   "execution_count": 15,
   "id": "ef2b0d9d",
   "metadata": {
    "execution": {
     "iopub.execute_input": "2024-03-27T20:02:35.448852Z",
     "iopub.status.busy": "2024-03-27T20:02:35.448424Z",
     "iopub.status.idle": "2024-03-27T20:02:35.455772Z",
     "shell.execute_reply": "2024-03-27T20:02:35.454773Z"
    },
    "papermill": {
     "duration": 0.020658,
     "end_time": "2024-03-27T20:02:35.458072",
     "exception": false,
     "start_time": "2024-03-27T20:02:35.437414",
     "status": "completed"
    },
    "tags": []
   },
   "outputs": [],
   "source": [
    "preds1 = []\n",
    "for pred in preds:\n",
    "    preds1.append(pred[-1])"
   ]
  },
  {
   "cell_type": "code",
   "execution_count": 16,
   "id": "a9dc4ccf",
   "metadata": {
    "execution": {
     "iopub.execute_input": "2024-03-27T20:02:35.478973Z",
     "iopub.status.busy": "2024-03-27T20:02:35.478596Z",
     "iopub.status.idle": "2024-03-27T20:02:35.484879Z",
     "shell.execute_reply": "2024-03-27T20:02:35.484011Z"
    },
    "papermill": {
     "duration": 0.019318,
     "end_time": "2024-03-27T20:02:35.486873",
     "exception": false,
     "start_time": "2024-03-27T20:02:35.467555",
     "status": "completed"
    },
    "tags": []
   },
   "outputs": [],
   "source": [
    "preds_dict  = {\n",
    "    \"id\": submission_id,\n",
    "    \"target\": preds1\n",
    "}\n",
    "submission = pd.DataFrame(preds_dict)"
   ]
  },
  {
   "cell_type": "code",
   "execution_count": 17,
   "id": "1cf9b752",
   "metadata": {
    "execution": {
     "iopub.execute_input": "2024-03-27T20:02:35.507263Z",
     "iopub.status.busy": "2024-03-27T20:02:35.506897Z",
     "iopub.status.idle": "2024-03-27T20:02:35.513599Z",
     "shell.execute_reply": "2024-03-27T20:02:35.512554Z"
    },
    "papermill": {
     "duration": 0.019651,
     "end_time": "2024-03-27T20:02:35.515880",
     "exception": false,
     "start_time": "2024-03-27T20:02:35.496229",
     "status": "completed"
    },
    "tags": []
   },
   "outputs": [
    {
     "data": {
      "text/plain": [
       "(3263, 2)"
      ]
     },
     "execution_count": 17,
     "metadata": {},
     "output_type": "execute_result"
    }
   ],
   "source": [
    "submission.shape"
   ]
  },
  {
   "cell_type": "code",
   "execution_count": 18,
   "id": "f8365412",
   "metadata": {
    "execution": {
     "iopub.execute_input": "2024-03-27T20:02:35.536578Z",
     "iopub.status.busy": "2024-03-27T20:02:35.536164Z",
     "iopub.status.idle": "2024-03-27T20:02:35.551936Z",
     "shell.execute_reply": "2024-03-27T20:02:35.550982Z"
    },
    "papermill": {
     "duration": 0.029132,
     "end_time": "2024-03-27T20:02:35.554565",
     "exception": false,
     "start_time": "2024-03-27T20:02:35.525433",
     "status": "completed"
    },
    "tags": []
   },
   "outputs": [],
   "source": [
    "submission.to_csv(\"/kaggle/working/submission2.csv\",index=False)"
   ]
  },
  {
   "cell_type": "code",
   "execution_count": 19,
   "id": "9ac1038c",
   "metadata": {
    "execution": {
     "iopub.execute_input": "2024-03-27T20:02:35.575470Z",
     "iopub.status.busy": "2024-03-27T20:02:35.574608Z",
     "iopub.status.idle": "2024-03-27T20:02:35.585126Z",
     "shell.execute_reply": "2024-03-27T20:02:35.584181Z"
    },
    "papermill": {
     "duration": 0.023561,
     "end_time": "2024-03-27T20:02:35.587546",
     "exception": false,
     "start_time": "2024-03-27T20:02:35.563985",
     "status": "completed"
    },
    "tags": []
   },
   "outputs": [
    {
     "data": {
      "text/html": [
       "<div>\n",
       "<style scoped>\n",
       "    .dataframe tbody tr th:only-of-type {\n",
       "        vertical-align: middle;\n",
       "    }\n",
       "\n",
       "    .dataframe tbody tr th {\n",
       "        vertical-align: top;\n",
       "    }\n",
       "\n",
       "    .dataframe thead th {\n",
       "        text-align: right;\n",
       "    }\n",
       "</style>\n",
       "<table border=\"1\" class=\"dataframe\">\n",
       "  <thead>\n",
       "    <tr style=\"text-align: right;\">\n",
       "      <th></th>\n",
       "      <th>id</th>\n",
       "      <th>target</th>\n",
       "    </tr>\n",
       "  </thead>\n",
       "  <tbody>\n",
       "    <tr>\n",
       "      <th>0</th>\n",
       "      <td>0</td>\n",
       "      <td>0.58</td>\n",
       "    </tr>\n",
       "    <tr>\n",
       "      <th>1</th>\n",
       "      <td>2</td>\n",
       "      <td>0.64</td>\n",
       "    </tr>\n",
       "    <tr>\n",
       "      <th>2</th>\n",
       "      <td>3</td>\n",
       "      <td>0.60</td>\n",
       "    </tr>\n",
       "    <tr>\n",
       "      <th>3</th>\n",
       "      <td>9</td>\n",
       "      <td>0.19</td>\n",
       "    </tr>\n",
       "    <tr>\n",
       "      <th>4</th>\n",
       "      <td>11</td>\n",
       "      <td>0.75</td>\n",
       "    </tr>\n",
       "  </tbody>\n",
       "</table>\n",
       "</div>"
      ],
      "text/plain": [
       "   id  target\n",
       "0   0    0.58\n",
       "1   2    0.64\n",
       "2   3    0.60\n",
       "3   9    0.19\n",
       "4  11    0.75"
      ]
     },
     "execution_count": 19,
     "metadata": {},
     "output_type": "execute_result"
    }
   ],
   "source": [
    "submission.head()"
   ]
  },
  {
   "cell_type": "code",
   "execution_count": null,
   "id": "6cefd17f",
   "metadata": {
    "papermill": {
     "duration": 0.00934,
     "end_time": "2024-03-27T20:02:35.606433",
     "exception": false,
     "start_time": "2024-03-27T20:02:35.597093",
     "status": "completed"
    },
    "tags": []
   },
   "outputs": [],
   "source": []
  }
 ],
 "metadata": {
  "kaggle": {
   "accelerator": "none",
   "dataSources": [
    {
     "databundleVersionId": 869809,
     "sourceId": 17777,
     "sourceType": "competition"
    }
   ],
   "dockerImageVersionId": 30673,
   "isGpuEnabled": false,
   "isInternetEnabled": true,
   "language": "python",
   "sourceType": "notebook"
  },
  "kernelspec": {
   "display_name": "Python 3",
   "language": "python",
   "name": "python3"
  },
  "language_info": {
   "codemirror_mode": {
    "name": "ipython",
    "version": 3
   },
   "file_extension": ".py",
   "mimetype": "text/x-python",
   "name": "python",
   "nbconvert_exporter": "python",
   "pygments_lexer": "ipython3",
   "version": "3.10.13"
  },
  "papermill": {
   "default_parameters": {},
   "duration": 68.63063,
   "end_time": "2024-03-27T20:02:37.341255",
   "environment_variables": {},
   "exception": null,
   "input_path": "__notebook__.ipynb",
   "output_path": "__notebook__.ipynb",
   "parameters": {},
   "start_time": "2024-03-27T20:01:28.710625",
   "version": "2.5.0"
  }
 },
 "nbformat": 4,
 "nbformat_minor": 5
}
